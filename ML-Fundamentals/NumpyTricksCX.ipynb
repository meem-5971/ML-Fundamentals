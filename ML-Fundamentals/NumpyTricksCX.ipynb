{
  "nbformat": 4,
  "nbformat_minor": 0,
  "metadata": {
    "colab": {
      "provenance": [],
      "authorship_tag": "ABX9TyMHdhwKj19nqc/fAs55dHVB",
      "include_colab_link": true
    },
    "kernelspec": {
      "name": "python3",
      "display_name": "Python 3"
    },
    "language_info": {
      "name": "python"
    }
  },
  "cells": [
    {
      "cell_type": "markdown",
      "metadata": {
        "id": "view-in-github",
        "colab_type": "text"
      },
      "source": [
        "<a href=\"https://colab.research.google.com/github/meem-5971/ML-Fundamentals/blob/main/ML-Fundamentals/NumpyTricksCX.ipynb\" target=\"_parent\"><img src=\"https://colab.research.google.com/assets/colab-badge.svg\" alt=\"Open In Colab\"/></a>"
      ]
    },
    {
      "cell_type": "markdown",
      "source": [
        "### np.sort\n",
        "\n",
        "Return a sorted copy of numpy array.\n",
        "\n",
        "https://numpy.org/doc/stable/reference/generated/numpy.sort.html\n"
      ],
      "metadata": {
        "id": "VyHbKrjSlAmN"
      }
    },
    {
      "cell_type": "code",
      "execution_count": null,
      "metadata": {
        "colab": {
          "base_uri": "https://localhost:8080/"
        },
        "id": "FMpCtzJ6kR1i",
        "outputId": "668e9d6c-6ba4-43dc-9018-cad069eb2995"
      },
      "outputs": [
        {
          "output_type": "execute_result",
          "data": {
            "text/plain": [
              "array([93, 61,  3, 20, 34, 77, 40, 99, 58, 63, 94, 75, 39, 64, 88])"
            ]
          },
          "metadata": {},
          "execution_count": 1
        }
      ],
      "source": [
        "# code\n",
        "import numpy as np\n",
        "a = np.random.randint(1,100,15)\n",
        "a"
      ]
    },
    {
      "cell_type": "code",
      "source": [
        "b = np.random.randint(1,100,24).reshape(6,4)\n",
        "b"
      ],
      "metadata": {
        "colab": {
          "base_uri": "https://localhost:8080/"
        },
        "id": "tehrgV5ulc9T",
        "outputId": "23fa8e5e-0bcc-4c46-fe10-bb48c3f038b6"
      },
      "execution_count": null,
      "outputs": [
        {
          "output_type": "execute_result",
          "data": {
            "text/plain": [
              "array([[51, 29, 37, 45],\n",
              "       [28, 76, 72, 76],\n",
              "       [39,  2, 78,  8],\n",
              "       [87, 60, 63, 71],\n",
              "       [ 5, 23, 67, 42],\n",
              "       [49, 83, 25, 28]])"
            ]
          },
          "metadata": {},
          "execution_count": 12
        }
      ]
    },
    {
      "cell_type": "code",
      "source": [
        "np.sort(a) #ascending\n",
        "np.sort(a)[::-1] #descending"
      ],
      "metadata": {
        "colab": {
          "base_uri": "https://localhost:8080/"
        },
        "id": "CTmM6sJKlfVq",
        "outputId": "00d132a5-e466-4820-fdd9-a407ed447e47"
      },
      "execution_count": null,
      "outputs": [
        {
          "output_type": "execute_result",
          "data": {
            "text/plain": [
              "array([99, 94, 93, 88, 77, 75, 64, 63, 61, 58, 40, 39, 34, 20,  3])"
            ]
          },
          "metadata": {},
          "execution_count": 6
        }
      ]
    },
    {
      "cell_type": "code",
      "source": [
        "np.sort(b) #row wise sort\n",
        "np.sort(b,axis=0) #column wise sort\n",
        "np.sort(b,axis=0)[::-1] #column wise sort descending\n"
      ],
      "metadata": {
        "colab": {
          "base_uri": "https://localhost:8080/"
        },
        "id": "6nuSE0Y0lsrt",
        "outputId": "477fb292-348a-4e7a-ccf0-9cdd424ee517"
      },
      "execution_count": null,
      "outputs": [
        {
          "output_type": "execute_result",
          "data": {
            "text/plain": [
              "array([[99, 68, 79, 93],\n",
              "       [79, 66, 56, 48],\n",
              "       [78, 40, 48, 32],\n",
              "       [58, 40, 35, 32],\n",
              "       [55, 37, 23, 23],\n",
              "       [36, 28,  8, 12]])"
            ]
          },
          "metadata": {},
          "execution_count": 7
        }
      ]
    },
    {
      "cell_type": "markdown",
      "source": [
        "### np.append\n",
        "\n",
        "The numpy.append() appends values along the mentioned axis at the end of the array\n",
        "\n",
        "https://numpy.org/doc/stable/reference/generated/numpy.append.html"
      ],
      "metadata": {
        "id": "EfDwZWaumVDy"
      }
    },
    {
      "cell_type": "code",
      "source": [
        "np.append(a,200)"
      ],
      "metadata": {
        "colab": {
          "base_uri": "https://localhost:8080/"
        },
        "id": "qta7fEtxlwOL",
        "outputId": "19dc5864-f838-4700-dfaa-258135afd7f8"
      },
      "execution_count": null,
      "outputs": [
        {
          "output_type": "execute_result",
          "data": {
            "text/plain": [
              "array([ 93,  61,   3,  20,  34,  77,  40,  99,  58,  63,  94,  75,  39,\n",
              "        64,  88, 200])"
            ]
          },
          "metadata": {},
          "execution_count": 8
        }
      ]
    },
    {
      "cell_type": "code",
      "source": [
        "#2D\n",
        "np.append(b,np.ones((b.shape[0],1)),axis=1)\n",
        "np.append(b,np.random.random((b.shape[0],1)),axis=1)"
      ],
      "metadata": {
        "colab": {
          "base_uri": "https://localhost:8080/"
        },
        "id": "HM5Ex-NEmdmk",
        "outputId": "a86c6bc4-159c-4795-ad0e-9782c4de02bf"
      },
      "execution_count": null,
      "outputs": [
        {
          "output_type": "execute_result",
          "data": {
            "text/plain": [
              "array([[51.        , 29.        , 37.        , 45.        ,  0.24293838],\n",
              "       [28.        , 76.        , 72.        , 76.        ,  0.6431643 ],\n",
              "       [39.        ,  2.        , 78.        ,  8.        ,  0.36148527],\n",
              "       [87.        , 60.        , 63.        , 71.        ,  0.50386768],\n",
              "       [ 5.        , 23.        , 67.        , 42.        ,  0.77987653],\n",
              "       [49.        , 83.        , 25.        , 28.        ,  0.11981021]])"
            ]
          },
          "metadata": {},
          "execution_count": 14
        }
      ]
    },
    {
      "cell_type": "markdown",
      "source": [
        "### np.concatenate\n",
        "\n",
        "numpy.concatenate() function concatenate a sequence of arrays along an existing axis. <br>\n",
        "\n",
        "works like stacking\n",
        "\n",
        "https://numpy.org/doc/stable/reference/generated/numpy.concatenate.html"
      ],
      "metadata": {
        "id": "93bemLCTnUlK"
      }
    },
    {
      "cell_type": "code",
      "source": [
        "c = np.arange(6).reshape(2,3)\n",
        "d = np.arange(6,12).reshape(2,3)\n",
        "\n",
        "print(c)\n",
        "print(d)"
      ],
      "metadata": {
        "colab": {
          "base_uri": "https://localhost:8080/"
        },
        "id": "9xcq7p_Em8ut",
        "outputId": "be546ae5-c50f-4e96-b159-d6e24aaa9655"
      },
      "execution_count": null,
      "outputs": [
        {
          "output_type": "stream",
          "name": "stdout",
          "text": [
            "[[0 1 2]\n",
            " [3 4 5]]\n",
            "[[ 6  7  8]\n",
            " [ 9 10 11]]\n"
          ]
        }
      ]
    },
    {
      "cell_type": "code",
      "source": [
        "np.concatenate((c,d),axis=0) #add with rows\n",
        "np.concatenate((c,d),axis=1) #add with columns\n",
        "#"
      ],
      "metadata": {
        "colab": {
          "base_uri": "https://localhost:8080/"
        },
        "id": "lD1EIGRQnwCM",
        "outputId": "acf491d2-8598-4116-cc27-ba29b1886667"
      },
      "execution_count": null,
      "outputs": [
        {
          "output_type": "execute_result",
          "data": {
            "text/plain": [
              "array([[ 0,  1,  2,  6,  7,  8],\n",
              "       [ 3,  4,  5,  9, 10, 11]])"
            ]
          },
          "metadata": {},
          "execution_count": 17
        }
      ]
    },
    {
      "cell_type": "markdown",
      "source": [
        "### np.unique\n",
        "\n",
        "With the help of np.unique() method, we can get the unique values from an array given as parameter in np.unique() method.\n",
        "\n",
        "https://numpy.org/doc/stable/reference/generated/numpy.unique.html/"
      ],
      "metadata": {
        "id": "3hxON3qAoUvV"
      }
    },
    {
      "cell_type": "code",
      "source": [
        "# code\n",
        "e = np.array([1,1,2,2,3,3,4,4,5,5,6,6])\n",
        "np.unique(e)"
      ],
      "metadata": {
        "colab": {
          "base_uri": "https://localhost:8080/"
        },
        "id": "eD4WjjqgoK0Z",
        "outputId": "f8691fce-dabc-4e49-c53c-f7958ff71003"
      },
      "execution_count": null,
      "outputs": [
        {
          "output_type": "execute_result",
          "data": {
            "text/plain": [
              "array([1, 2, 3, 4, 5, 6])"
            ]
          },
          "metadata": {},
          "execution_count": 18
        }
      ]
    },
    {
      "cell_type": "markdown",
      "source": [
        "### np.expand_dims\n",
        "\n",
        "With the help of Numpy.expand_dims() method, we can get the expanded dimensions of an array<br>\n",
        "models prefer to use batches of data instead of single data. This function comes to help in this case\n",
        "\n",
        "https://numpy.org/doc/stable/reference/generated/numpy.expand_dims.html"
      ],
      "metadata": {
        "id": "tBncK5IrowEP"
      }
    },
    {
      "cell_type": "code",
      "source": [
        "a"
      ],
      "metadata": {
        "colab": {
          "base_uri": "https://localhost:8080/"
        },
        "id": "qvZNyWgGorTv",
        "outputId": "146dafbc-5586-4e56-aa6d-e699c6de5198"
      },
      "execution_count": null,
      "outputs": [
        {
          "output_type": "execute_result",
          "data": {
            "text/plain": [
              "array([93, 61,  3, 20, 34, 77, 40, 99, 58, 63, 94, 75, 39, 64, 88])"
            ]
          },
          "metadata": {},
          "execution_count": 19
        }
      ]
    },
    {
      "cell_type": "code",
      "source": [
        "np.expand_dims(a,axis=0) #shape (1x15)"
      ],
      "metadata": {
        "colab": {
          "base_uri": "https://localhost:8080/"
        },
        "id": "hOOXfD71ogD2",
        "outputId": "b2306f7e-e0ee-40da-eace-0496540b481a"
      },
      "execution_count": null,
      "outputs": [
        {
          "output_type": "execute_result",
          "data": {
            "text/plain": [
              "array([[93, 61,  3, 20, 34, 77, 40, 99, 58, 63, 94, 75, 39, 64, 88]])"
            ]
          },
          "metadata": {},
          "execution_count": 20
        }
      ]
    },
    {
      "cell_type": "code",
      "source": [
        "np.expand_dims(a,axis=1) #shape (15x1)"
      ],
      "metadata": {
        "colab": {
          "base_uri": "https://localhost:8080/"
        },
        "id": "KP_s55J5pUkM",
        "outputId": "3f900db9-8886-4431-af52-8ac82220de1a"
      },
      "execution_count": null,
      "outputs": [
        {
          "output_type": "execute_result",
          "data": {
            "text/plain": [
              "array([[93],\n",
              "       [61],\n",
              "       [ 3],\n",
              "       [20],\n",
              "       [34],\n",
              "       [77],\n",
              "       [40],\n",
              "       [99],\n",
              "       [58],\n",
              "       [63],\n",
              "       [94],\n",
              "       [75],\n",
              "       [39],\n",
              "       [64],\n",
              "       [88]])"
            ]
          },
          "metadata": {},
          "execution_count": 22
        }
      ]
    },
    {
      "cell_type": "markdown",
      "source": [
        "### np.where\n",
        "\n",
        "The numpy.where() function returns the indices of elements in an input array where the given condition is satisfied.\n",
        "\n",
        "https://numpy.org/doc/stable/reference/generated/numpy.where.html"
      ],
      "metadata": {
        "id": "UyfxIsz7qRMA"
      }
    },
    {
      "cell_type": "code",
      "source": [
        "# find all indices with value greater than 50\n",
        "np.where(a>50)"
      ],
      "metadata": {
        "colab": {
          "base_uri": "https://localhost:8080/"
        },
        "id": "TanO-7k0paCe",
        "outputId": "330ce343-cbd1-4bdd-816e-13900f989596"
      },
      "execution_count": null,
      "outputs": [
        {
          "output_type": "execute_result",
          "data": {
            "text/plain": [
              "(array([ 0,  1,  5,  7,  8,  9, 10, 11, 13, 14]),)"
            ]
          },
          "metadata": {},
          "execution_count": 23
        }
      ]
    },
    {
      "cell_type": "code",
      "source": [
        "# replace all values > 50 with 0\n",
        "np.where(a>50,0,a)"
      ],
      "metadata": {
        "colab": {
          "base_uri": "https://localhost:8080/"
        },
        "id": "l1OZrq4DqsLD",
        "outputId": "95957a04-a1d3-46d2-beeb-1803a952247a"
      },
      "execution_count": null,
      "outputs": [
        {
          "output_type": "execute_result",
          "data": {
            "text/plain": [
              "array([ 0,  0,  3, 20, 34,  0, 40,  0,  0,  0,  0,  0, 39,  0,  0])"
            ]
          },
          "metadata": {},
          "execution_count": 24
        }
      ]
    },
    {
      "cell_type": "code",
      "source": [
        "#all the even nums are replaced with zero\n",
        "np.where(a%2==0,0,a)"
      ],
      "metadata": {
        "colab": {
          "base_uri": "https://localhost:8080/"
        },
        "id": "T1LGWsZArkSs",
        "outputId": "6b43a5cf-a3fd-4faa-dd67-8abee5576748"
      },
      "execution_count": null,
      "outputs": [
        {
          "output_type": "execute_result",
          "data": {
            "text/plain": [
              "array([93, 61,  3,  0,  0, 77,  0, 99,  0, 63,  0, 75, 39,  0,  0])"
            ]
          },
          "metadata": {},
          "execution_count": 25
        }
      ]
    },
    {
      "cell_type": "markdown",
      "source": [
        "### np.argmax\n",
        "\n",
        "The numpy.argmax() function returns indices of the max element of the array in a particular axis.\n",
        "\n",
        "https://numpy.org/doc/stable/reference/generated/numpy.argmax.html"
      ],
      "metadata": {
        "id": "TraTLbhpr5YK"
      }
    },
    {
      "cell_type": "code",
      "source": [
        "a"
      ],
      "metadata": {
        "colab": {
          "base_uri": "https://localhost:8080/"
        },
        "id": "cFPQtWrCr5Cn",
        "outputId": "b8d723af-8f09-4983-98f9-67e0e24fe2d8"
      },
      "execution_count": null,
      "outputs": [
        {
          "output_type": "execute_result",
          "data": {
            "text/plain": [
              "array([93, 61,  3, 20, 34, 77, 40, 99, 58, 63, 94, 75, 39, 64, 88])"
            ]
          },
          "metadata": {},
          "execution_count": 26
        }
      ]
    },
    {
      "cell_type": "code",
      "source": [
        "np.argmax(a)"
      ],
      "metadata": {
        "colab": {
          "base_uri": "https://localhost:8080/"
        },
        "id": "TPBnlFpMr1rf",
        "outputId": "9dea7e60-a99c-48dc-b3de-40df3a852e35"
      },
      "execution_count": null,
      "outputs": [
        {
          "output_type": "execute_result",
          "data": {
            "text/plain": [
              "7"
            ]
          },
          "metadata": {},
          "execution_count": 27
        }
      ]
    },
    {
      "cell_type": "code",
      "source": [
        "b"
      ],
      "metadata": {
        "colab": {
          "base_uri": "https://localhost:8080/"
        },
        "id": "EOlMCMP3sf8f",
        "outputId": "394a3045-d3e7-4f6c-bb8d-4304e5a11fef"
      },
      "execution_count": null,
      "outputs": [
        {
          "output_type": "execute_result",
          "data": {
            "text/plain": [
              "array([[51, 29, 37, 45],\n",
              "       [28, 76, 72, 76],\n",
              "       [39,  2, 78,  8],\n",
              "       [87, 60, 63, 71],\n",
              "       [ 5, 23, 67, 42],\n",
              "       [49, 83, 25, 28]])"
            ]
          },
          "metadata": {},
          "execution_count": 28
        }
      ]
    },
    {
      "cell_type": "code",
      "source": [
        "#2D\n",
        "np.argmax(b,axis=0) #column wise\n",
        "np.argmax(b,axis=1) #row wise"
      ],
      "metadata": {
        "colab": {
          "base_uri": "https://localhost:8080/"
        },
        "id": "3QmFceRVruiq",
        "outputId": "6c6096f9-9861-4f7e-c41b-5d98ba491c0d"
      },
      "execution_count": null,
      "outputs": [
        {
          "output_type": "execute_result",
          "data": {
            "text/plain": [
              "array([0, 1, 2, 0, 2, 1])"
            ]
          },
          "metadata": {},
          "execution_count": 30
        }
      ]
    },
    {
      "cell_type": "markdown",
      "source": [
        "###np.argmin"
      ],
      "metadata": {
        "id": "9OcavWjxtGI1"
      }
    },
    {
      "cell_type": "code",
      "source": [
        "np.argmin(a)"
      ],
      "metadata": {
        "colab": {
          "base_uri": "https://localhost:8080/"
        },
        "id": "YrDp71lAshvd",
        "outputId": "5c82d253-61a0-4797-ae4e-a124401d9fc6"
      },
      "execution_count": null,
      "outputs": [
        {
          "output_type": "execute_result",
          "data": {
            "text/plain": [
              "2"
            ]
          },
          "metadata": {},
          "execution_count": 31
        }
      ]
    },
    {
      "cell_type": "markdown",
      "source": [
        "### np.cumsum\n",
        "\n",
        "numpy.cumsum() function is used when we want to compute the cumulative sum of array elements over a given axis.\n",
        "\n",
        "https://numpy.org/doc/stable/reference/generated/numpy.cumsum.html"
      ],
      "metadata": {
        "id": "ALnKl1bwuone"
      }
    },
    {
      "cell_type": "code",
      "source": [
        "np.cumsum(a)"
      ],
      "metadata": {
        "colab": {
          "base_uri": "https://localhost:8080/"
        },
        "id": "LYu1DgaKuoRb",
        "outputId": "67f91d62-a104-4835-d87b-a315808a3334"
      },
      "execution_count": null,
      "outputs": [
        {
          "output_type": "execute_result",
          "data": {
            "text/plain": [
              "array([ 93, 154, 157, 177, 211, 288, 328, 427, 485, 548, 642, 717, 756,\n",
              "       820, 908])"
            ]
          },
          "metadata": {},
          "execution_count": 32
        }
      ]
    },
    {
      "cell_type": "code",
      "source": [
        "np.cumsum(b)\n",
        "np.cumsum(b,axis=0) #col wise\n",
        "np.cumsum(b,axis=1) #row wise"
      ],
      "metadata": {
        "colab": {
          "base_uri": "https://localhost:8080/"
        },
        "id": "0eOS9xxZvT_4",
        "outputId": "20e17e87-7c7e-4b33-ddda-baec99fb3f69"
      },
      "execution_count": null,
      "outputs": [
        {
          "output_type": "execute_result",
          "data": {
            "text/plain": [
              "array([[ 51,  80, 117, 162],\n",
              "       [ 28, 104, 176, 252],\n",
              "       [ 39,  41, 119, 127],\n",
              "       [ 87, 147, 210, 281],\n",
              "       [  5,  28,  95, 137],\n",
              "       [ 49, 132, 157, 185]])"
            ]
          },
          "metadata": {},
          "execution_count": 33
        }
      ]
    },
    {
      "cell_type": "markdown",
      "source": [
        "###np.cumprod"
      ],
      "metadata": {
        "id": "h_kJW2yCvo8e"
      }
    },
    {
      "cell_type": "code",
      "source": [
        "np.cumprod(a)"
      ],
      "metadata": {
        "colab": {
          "base_uri": "https://localhost:8080/"
        },
        "id": "Nvnyg0cKvhau",
        "outputId": "9f2cba71-a185-4075-c0eb-f431f8625d91"
      },
      "execution_count": null,
      "outputs": [
        {
          "output_type": "execute_result",
          "data": {
            "text/plain": [
              "array([                  93,                 5673,                17019,\n",
              "                     340380,             11572920,            891114840,\n",
              "                35644593600,        3528814766400,      204671256451200,\n",
              "          12894289156425600,  1212063180704006400, -1328981815747278080,\n",
              "        3509941406984809728,  3275321162513203200, -6919642878190944256])"
            ]
          },
          "metadata": {},
          "execution_count": 34
        }
      ]
    },
    {
      "cell_type": "code",
      "source": [
        "np.cumprod(b)\n",
        "np.cumprod(b,axis=0) #col wise\n",
        "np.cumprod(b,axis=1) #row wise"
      ],
      "metadata": {
        "colab": {
          "base_uri": "https://localhost:8080/"
        },
        "id": "JoOQMeVNvs8D",
        "outputId": "35f922af-c522-40cf-84f2-0da76a0ae33c"
      },
      "execution_count": null,
      "outputs": [
        {
          "output_type": "execute_result",
          "data": {
            "text/plain": [
              "array([[      51,     1479,    54723,  2462535],\n",
              "       [      28,     2128,   153216, 11644416],\n",
              "       [      39,       78,     6084,    48672],\n",
              "       [      87,     5220,   328860, 23349060],\n",
              "       [       5,      115,     7705,   323610],\n",
              "       [      49,     4067,   101675,  2846900]])"
            ]
          },
          "metadata": {},
          "execution_count": 35
        }
      ]
    },
    {
      "cell_type": "markdown",
      "source": [
        "### np.percentile\n",
        "\n",
        "numpy.percentile()function used to compute the nth percentile of the given data (array elements) along the specified axis.\n",
        "\n",
        "https://numpy.org/doc/stable/reference/generated/numpy.percentile.html"
      ],
      "metadata": {
        "id": "4G8Mb0vCv1c8"
      }
    },
    {
      "cell_type": "code",
      "source": [
        "np.percentile(a,50) # 50% values are less than 63"
      ],
      "metadata": {
        "colab": {
          "base_uri": "https://localhost:8080/"
        },
        "id": "moR6gw67vzH5",
        "outputId": "7fdba603-73c4-4792-c343-00f56e20bb7f"
      },
      "execution_count": null,
      "outputs": [
        {
          "output_type": "execute_result",
          "data": {
            "text/plain": [
              "63.0"
            ]
          },
          "metadata": {},
          "execution_count": 36
        }
      ]
    },
    {
      "cell_type": "markdown",
      "source": [
        "### np.histogram\n",
        "\n",
        "Numpy has a built-in numpy.histogram() function which represents the frequency of data distribution in the graphical form.\n",
        "\n",
        "https://numpy.org/doc/stable/reference/generated/numpy.histogram.html"
      ],
      "metadata": {
        "id": "M_o2J9LEw_mf"
      }
    },
    {
      "cell_type": "code",
      "source": [
        "a"
      ],
      "metadata": {
        "colab": {
          "base_uri": "https://localhost:8080/"
        },
        "id": "awd4D2BPwuNj",
        "outputId": "034aefad-d1d5-469a-d43f-f2718e01b093"
      },
      "execution_count": null,
      "outputs": [
        {
          "output_type": "execute_result",
          "data": {
            "text/plain": [
              "array([93, 61,  3, 20, 34, 77, 40, 99, 58, 63, 94, 75, 39, 64, 88])"
            ]
          },
          "metadata": {},
          "execution_count": 37
        }
      ]
    },
    {
      "cell_type": "code",
      "source": [
        "np.histogram(a,bins=[0,10,20,30,40,50,60,70,80,90,100]) #bins=[x,y]->how many values are inbetween x,y"
      ],
      "metadata": {
        "colab": {
          "base_uri": "https://localhost:8080/"
        },
        "id": "t46SqF8vxb1Z",
        "outputId": "983c22a6-0a22-416e-9b6f-160ad2b4b014"
      },
      "execution_count": null,
      "outputs": [
        {
          "output_type": "execute_result",
          "data": {
            "text/plain": [
              "(array([1, 0, 1, 2, 1, 1, 3, 2, 1, 3]),\n",
              " array([  0,  10,  20,  30,  40,  50,  60,  70,  80,  90, 100]))"
            ]
          },
          "metadata": {},
          "execution_count": 39
        }
      ]
    },
    {
      "cell_type": "code",
      "source": [
        "np.histogram(a,bins=[0,50,100])"
      ],
      "metadata": {
        "colab": {
          "base_uri": "https://localhost:8080/"
        },
        "id": "MynM-AoCx0lu",
        "outputId": "55cbd921-69aa-48d4-dad5-141007d14bcd"
      },
      "execution_count": null,
      "outputs": [
        {
          "output_type": "execute_result",
          "data": {
            "text/plain": [
              "(array([ 5, 10]), array([  0,  50, 100]))"
            ]
          },
          "metadata": {},
          "execution_count": 40
        }
      ]
    },
    {
      "cell_type": "markdown",
      "source": [
        "### np.corrcoef\n",
        "\n",
        "Return Pearson product-moment correlation coefficients. <br>\n",
        "Ranges from -1 to 1 <br>\n",
        "\n",
        "\n",
        "https://numpy.org/doc/stable/reference/generated/numpy.corrcoef.html"
      ],
      "metadata": {
        "id": "XIUee7mcyIDc"
      }
    },
    {
      "cell_type": "code",
      "source": [
        "salary = np.array([20000,40000,25000,35000,60000])\n",
        "experience = np.array([1,3,2,4,2])\n",
        "\n",
        "np.corrcoef(salary,experience)\n",
        "#array([[(s,s).        , (s,ex)],\n",
        "#      [(ex,s), (ex,ex)        ]])"
      ],
      "metadata": {
        "colab": {
          "base_uri": "https://localhost:8080/"
        },
        "id": "UyuuGHOfyEMJ",
        "outputId": "7a545c2e-da3f-41a6-e743-9d0fdb0bebbf"
      },
      "execution_count": null,
      "outputs": [
        {
          "output_type": "execute_result",
          "data": {
            "text/plain": [
              "array([[1.        , 0.25344572],\n",
              "       [0.25344572, 1.        ]])"
            ]
          },
          "metadata": {},
          "execution_count": 41
        }
      ]
    },
    {
      "cell_type": "markdown",
      "source": [
        "### np.isin\n",
        "\n",
        "With the help of numpy.isin() method, we can see that one array having values are checked in a different numpy array having different elements with different sizes.<br>\n",
        "Searches the array to find for some particular items\n",
        "\n",
        "https://numpy.org/doc/stable/reference/generated/numpy.isin.html"
      ],
      "metadata": {
        "id": "oxigC283zH80"
      }
    },
    {
      "cell_type": "code",
      "source": [
        "items=[20,30,77,98,90,50,20,30]\n",
        "np.isin(a,items) #returns boolean a array with True for found items\n",
        "a[np.isin(a,items)] #returns the numbers which are found"
      ],
      "metadata": {
        "colab": {
          "base_uri": "https://localhost:8080/"
        },
        "id": "6WV7-dg8yCoV",
        "outputId": "b0615818-3ca9-4495-a3e4-7bf2aa3b7960"
      },
      "execution_count": null,
      "outputs": [
        {
          "output_type": "execute_result",
          "data": {
            "text/plain": [
              "array([20, 77])"
            ]
          },
          "metadata": {},
          "execution_count": 43
        }
      ]
    },
    {
      "cell_type": "markdown",
      "source": [
        "### np.flip\n",
        "\n",
        "The numpy.flip() function reverses the order of array elements along the specified axis, preserving the shape of the array.\n",
        "\n",
        "https://numpy.org/doc/stable/reference/generated/numpy.flip.html"
      ],
      "metadata": {
        "id": "XfZmt9dN0VJs"
      }
    },
    {
      "cell_type": "code",
      "source": [
        "a"
      ],
      "metadata": {
        "colab": {
          "base_uri": "https://localhost:8080/"
        },
        "id": "2ZZwslSYzwir",
        "outputId": "5cbf19a8-cc5b-4fae-d892-9f66830c48dc"
      },
      "execution_count": null,
      "outputs": [
        {
          "output_type": "execute_result",
          "data": {
            "text/plain": [
              "array([93, 61,  3, 20, 34, 77, 40, 99, 58, 63, 94, 75, 39, 64, 88])"
            ]
          },
          "metadata": {},
          "execution_count": 44
        }
      ]
    },
    {
      "cell_type": "code",
      "source": [
        "np.flip(a)"
      ],
      "metadata": {
        "colab": {
          "base_uri": "https://localhost:8080/"
        },
        "id": "yj1aphWp0dkK",
        "outputId": "6618028e-a0be-47e3-b4ac-9a1981e90af9"
      },
      "execution_count": null,
      "outputs": [
        {
          "output_type": "execute_result",
          "data": {
            "text/plain": [
              "array([88, 64, 39, 75, 94, 63, 58, 99, 40, 77, 34, 20,  3, 61, 93])"
            ]
          },
          "metadata": {},
          "execution_count": 45
        }
      ]
    },
    {
      "cell_type": "code",
      "source": [
        "b"
      ],
      "metadata": {
        "colab": {
          "base_uri": "https://localhost:8080/"
        },
        "id": "vIxO-c3s0xKj",
        "outputId": "d021e319-ff16-419a-d09b-cde27a215538"
      },
      "execution_count": null,
      "outputs": [
        {
          "output_type": "execute_result",
          "data": {
            "text/plain": [
              "array([[51, 29, 37, 45],\n",
              "       [28, 76, 72, 76],\n",
              "       [39,  2, 78,  8],\n",
              "       [87, 60, 63, 71],\n",
              "       [ 5, 23, 67, 42],\n",
              "       [49, 83, 25, 28]])"
            ]
          },
          "metadata": {},
          "execution_count": 47
        }
      ]
    },
    {
      "cell_type": "code",
      "source": [
        "#2D\n",
        "np.flip(b) #row flip then col flip\n",
        "np.flip(b,axis=0) #col flip\n",
        "np.flip(b,axis=1) #row flip\n"
      ],
      "metadata": {
        "colab": {
          "base_uri": "https://localhost:8080/"
        },
        "id": "a-m802JW0ezd",
        "outputId": "7540258d-4c56-4608-80e8-e9f99673a8bb"
      },
      "execution_count": null,
      "outputs": [
        {
          "output_type": "execute_result",
          "data": {
            "text/plain": [
              "array([[45, 37, 29, 51],\n",
              "       [76, 72, 76, 28],\n",
              "       [ 8, 78,  2, 39],\n",
              "       [71, 63, 60, 87],\n",
              "       [42, 67, 23,  5],\n",
              "       [28, 25, 83, 49]])"
            ]
          },
          "metadata": {},
          "execution_count": 46
        }
      ]
    },
    {
      "cell_type": "markdown",
      "source": [
        "### np.put\n",
        "\n",
        "The numpy.put() function replaces specific elements of an array with given values of p_array. Array indexed works on flattened array.\n",
        "<br>\n",
        "Edit values\n",
        "\n",
        "https://numpy.org/doc/stable/reference/generated/numpy.put.html"
      ],
      "metadata": {
        "id": "kaEq_M5w01GC"
      }
    },
    {
      "cell_type": "code",
      "source": [
        "#changed the values permanently\n",
        "np.put(a,[0,4],[420,121]) #np.put(array_name,[no_of_indices],[desired_values])"
      ],
      "metadata": {
        "id": "IOF2lbu907aQ"
      },
      "execution_count": null,
      "outputs": []
    },
    {
      "cell_type": "code",
      "source": [
        "a"
      ],
      "metadata": {
        "colab": {
          "base_uri": "https://localhost:8080/"
        },
        "id": "n5QgZk6w1TKm",
        "outputId": "64b69844-0634-4491-f5ae-296191646e67"
      },
      "execution_count": null,
      "outputs": [
        {
          "output_type": "execute_result",
          "data": {
            "text/plain": [
              "array([420,  61,   3,  20, 121,  77,  40,  99,  58,  63,  94,  75,  39,\n",
              "        64,  88])"
            ]
          },
          "metadata": {},
          "execution_count": 50
        }
      ]
    },
    {
      "cell_type": "markdown",
      "source": [
        "### np.delete\n",
        "\n",
        "The numpy.delete() function returns a new array with the deletion of sub-arrays along with the mentioned axis.\n",
        "\n",
        "https://numpy.org/doc/stable/reference/generated/numpy.delete.html"
      ],
      "metadata": {
        "id": "yXNNEIe516G1"
      }
    },
    {
      "cell_type": "code",
      "source": [
        "np.delete(a,[0,2,4]) #np.delete(array,[no_of_indices])"
      ],
      "metadata": {
        "colab": {
          "base_uri": "https://localhost:8080/"
        },
        "id": "15Q7G3zp1r8R",
        "outputId": "4409b606-858c-4206-cb59-5f5b526d2c8d"
      },
      "execution_count": null,
      "outputs": [
        {
          "output_type": "execute_result",
          "data": {
            "text/plain": [
              "array([61, 20, 77, 40, 99, 58, 63, 94, 75, 39, 64, 88])"
            ]
          },
          "metadata": {},
          "execution_count": 51
        }
      ]
    },
    {
      "cell_type": "markdown",
      "source": [
        "### Set functions\n",
        "\n",
        "- np.union1d\n",
        "- np.intersect1d\n",
        "- np.setdiff1d\n",
        "- np.setxor1d\n",
        "- np.in1d<br>\n",
        "\n",
        "Operates same way like the python set functions. Additionally it returns numpy array"
      ],
      "metadata": {
        "id": "fsote10U2WvT"
      }
    },
    {
      "cell_type": "code",
      "source": [
        "m = np.array([1,2,3,4,5])\n",
        "n = np.array([3,4,5,6,7])\n",
        "\n",
        "np.union1d(m,n) #common uncommon both"
      ],
      "metadata": {
        "colab": {
          "base_uri": "https://localhost:8080/"
        },
        "id": "nmZ-IlRu2X04",
        "outputId": "aa2636e9-e47c-4b40-b829-6263998f3f76"
      },
      "execution_count": null,
      "outputs": [
        {
          "output_type": "execute_result",
          "data": {
            "text/plain": [
              "array([1, 2, 3, 4, 5, 6, 7])"
            ]
          },
          "metadata": {},
          "execution_count": 53
        }
      ]
    },
    {
      "cell_type": "code",
      "source": [
        "np.intersect1d(m,n) #common"
      ],
      "metadata": {
        "colab": {
          "base_uri": "https://localhost:8080/"
        },
        "id": "_y7YR6i72t99",
        "outputId": "e5e3768e-c432-491b-e12f-2a179c77cbb5"
      },
      "execution_count": null,
      "outputs": [
        {
          "output_type": "execute_result",
          "data": {
            "text/plain": [
              "array([3, 4, 5])"
            ]
          },
          "metadata": {},
          "execution_count": 54
        }
      ]
    },
    {
      "cell_type": "code",
      "source": [
        "np.setdiff1d(n,m) # the items only exist in 2nd set"
      ],
      "metadata": {
        "colab": {
          "base_uri": "https://localhost:8080/"
        },
        "id": "rl6rYxqU2x9u",
        "outputId": "48fc6879-6cb2-4ce1-de81-fee5ada5a067"
      },
      "execution_count": null,
      "outputs": [
        {
          "output_type": "execute_result",
          "data": {
            "text/plain": [
              "array([6, 7])"
            ]
          },
          "metadata": {},
          "execution_count": 56
        }
      ]
    },
    {
      "cell_type": "code",
      "source": [
        "np.setxor1d(m,n) #uncommon"
      ],
      "metadata": {
        "colab": {
          "base_uri": "https://localhost:8080/"
        },
        "id": "AX2vX9I52z6l",
        "outputId": "a43d780b-4ae6-48ae-f37e-a63acaab630e"
      },
      "execution_count": null,
      "outputs": [
        {
          "output_type": "execute_result",
          "data": {
            "text/plain": [
              "array([1, 2, 6, 7])"
            ]
          },
          "metadata": {},
          "execution_count": 57
        }
      ]
    },
    {
      "cell_type": "code",
      "source": [
        "m[np.in1d(m,3)] # checks if 1 exists in m set"
      ],
      "metadata": {
        "colab": {
          "base_uri": "https://localhost:8080/"
        },
        "id": "hmZ_SHrj21k1",
        "outputId": "b4719f87-37e9-4905-caf4-eeed935e4bb9"
      },
      "execution_count": null,
      "outputs": [
        {
          "output_type": "execute_result",
          "data": {
            "text/plain": [
              "array([3])"
            ]
          },
          "metadata": {},
          "execution_count": 60
        }
      ]
    },
    {
      "cell_type": "markdown",
      "source": [
        "### np.clip\n",
        "\n",
        "numpy.clip() function is used to Clip (limit) the values in an array.\n",
        "\n",
        "https://numpy.org/doc/stable/reference/generated/numpy.clip.html"
      ],
      "metadata": {
        "id": "sudk2jYQ30mv"
      }
    },
    {
      "cell_type": "code",
      "source": [
        "np.clip(a,a_min=25,a_max=75) #values between 25 to 50"
      ],
      "metadata": {
        "colab": {
          "base_uri": "https://localhost:8080/"
        },
        "id": "9MnwOV173prv",
        "outputId": "262edec7-9ef1-4c53-a919-dadd3bb44458"
      },
      "execution_count": null,
      "outputs": [
        {
          "output_type": "execute_result",
          "data": {
            "text/plain": [
              "array([75, 61, 25, 25, 75, 75, 40, 75, 58, 63, 75, 75, 39, 64, 75])"
            ]
          },
          "metadata": {},
          "execution_count": 61
        }
      ]
    },
    {
      "cell_type": "code",
      "source": [],
      "metadata": {
        "id": "FjXgW7db4DsJ"
      },
      "execution_count": null,
      "outputs": []
    }
  ]
}